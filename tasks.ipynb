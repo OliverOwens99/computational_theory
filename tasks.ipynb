{
 "cells": [
  {
   "attachments": {},
   "cell_type": "markdown",
   "metadata": {},
   "source": [
    "# Tasks\n",
    "## Task 1 : Binary Representations\n",
    "\n",
    "I will do this using several functions rotate left, rotate right  a choose function and an majority function. Let's start with the roate left function I want to rotate the bits in a 32 bit unsigned integer too n places n being anything so lets do this one first. \n"
   ]
  },
  {
   "cell_type": "code",
   "execution_count": 25,
   "metadata": {},
   "outputs": [],
   "source": [
    "d = 0xe3\n"
   ]
  },
  {
   "cell_type": "code",
   "execution_count": 26,
   "metadata": {},
   "outputs": [
    {
     "name": "stdout",
     "output_type": "stream",
     "text": [
      "227\n"
     ]
    }
   ],
   "source": [
    "print(d)"
   ]
  },
  {
   "cell_type": "code",
   "execution_count": 27,
   "metadata": {},
   "outputs": [
    {
     "data": {
      "text/plain": [
       "'0b11100011'"
      ]
     },
     "execution_count": 27,
     "metadata": {},
     "output_type": "execute_result"
    }
   ],
   "source": [
    "bin(d)"
   ]
  },
  {
   "cell_type": "code",
   "execution_count": 28,
   "metadata": {},
   "outputs": [
    {
     "data": {
      "text/plain": [
       "'0b11100011000'"
      ]
     },
     "execution_count": 28,
     "metadata": {},
     "output_type": "execute_result"
    }
   ],
   "source": [
    "bin(d <<3)"
   ]
  },
  {
   "cell_type": "code",
   "execution_count": 29,
   "metadata": {},
   "outputs": [
    {
     "data": {
      "text/plain": [
       "'0b111'"
      ]
     },
     "execution_count": 29,
     "metadata": {},
     "output_type": "execute_result"
    }
   ],
   "source": [
    "bin(d >> 5)"
   ]
  },
  {
   "cell_type": "code",
   "execution_count": 30,
   "metadata": {},
   "outputs": [
    {
     "data": {
      "text/plain": [
       "'0b11100011111'"
      ]
     },
     "execution_count": 30,
     "metadata": {},
     "output_type": "execute_result"
    }
   ],
   "source": [
    "bin((d << 3) | (d >> 5))"
   ]
  },
  {
   "cell_type": "code",
   "execution_count": 31,
   "metadata": {},
   "outputs": [
    {
     "data": {
      "text/plain": [
       "88"
      ]
     },
     "execution_count": 31,
     "metadata": {},
     "output_type": "execute_result"
    }
   ],
   "source": [
    "0xb << 3"
   ]
  },
  {
   "cell_type": "code",
   "execution_count": 32,
   "metadata": {},
   "outputs": [],
   "source": [
    "import numpy\n",
    "\n",
    "int_bits = 32\n",
    "\n",
    "x=2\n",
    "n=42\n",
    "\n",
    "def rotl(n ,x):\n",
    "\n",
    "    return (n << x)|(n >> (int_bits - x))\n",
    "\n",
    "\n"
   ]
  },
  {
   "cell_type": "code",
   "execution_count": 33,
   "metadata": {},
   "outputs": [
    {
     "name": "stdout",
     "output_type": "stream",
     "text": [
      "Left Rotation of 42 by 2 is 168\n"
     ]
    }
   ],
   "source": [
    "print(\"Left Rotation of\",n,\"by\"\n",
    "      ,x,\"is\",end=\" \")\n",
    "print(rotl(n, x))"
   ]
  },
  {
   "cell_type": "code",
   "execution_count": 34,
   "metadata": {},
   "outputs": [],
   "source": [
    "def rotr(n ,x):\n",
    "\n",
    "    return (n >> x)|(n << (int_bits - x)) & 0xFFFFFFFF"
   ]
  },
  {
   "cell_type": "code",
   "execution_count": 35,
   "metadata": {},
   "outputs": [
    {
     "name": "stdout",
     "output_type": "stream",
     "text": [
      "Right Rotation of 42 by 2 is 2147483658\n"
     ]
    }
   ],
   "source": [
    "print(\"Right Rotation of\",n,\"by\"\n",
    "      ,x,\"is\",end=\" \")\n",
    "print(rotr(n, x))"
   ]
  },
  {
   "cell_type": "markdown",
   "metadata": {},
   "source": [
    "### Task 1c \n",
    "Here we will make a function ch(x, y, z) that chooses the bits from y where x has bits set to 1 and bits in z where x has bits set to 0.\n",
    "\n"
   ]
  },
  {
   "cell_type": "code",
   "execution_count": 36,
   "metadata": {},
   "outputs": [
    {
     "name": "stdout",
     "output_type": "stream",
     "text": [
      "2\n"
     ]
    }
   ],
   "source": [
    "def ch(x, y, z):\n",
    "\n",
    "    return (x & y) ^ (~x & z)\n",
    "\n",
    "print(ch(0x1, 0x2, 0x3))"
   ]
  },
  {
   "cell_type": "markdown",
   "metadata": {},
   "source": [
    "The function ch takes three arguments x, y, and z.\n",
    "It performs a bitwise AND operation between x and y.\n",
    "It performs a bitwise AND operation between the bitwise NOT of x and z.\n",
    "It then performs a bitwise XOR operation between the results of the two AND operations.\n",
    "The result of the XOR operation is returned"
   ]
  },
  {
   "cell_type": "markdown",
   "metadata": {},
   "source": [
    "### Task1d the maj function \n",
    "\n",
    "The function maj(x, y, z) which takes a majority vote of the bits in x, y, and z. The output should have a 1 in bit position i where at least two of x, y, and z have 1's in position i. All other output bit positions should be 0. So this is a simple voting system where the computer decideds on which bit is on or off so to speak for the different bit positions. For each bit position in the paramters it decides if they are yes or no if 2 out of the three are yess the answer is yes if not the answer is no. "
   ]
  },
  {
   "cell_type": "markdown",
   "metadata": {},
   "source": [
    "I tried to use OR (|) instead of XOR(^) intially but it ultimatly doesnt really matter because of the properties of xor when used in pairs.\n"
   ]
  },
  {
   "cell_type": "code",
   "execution_count": 44,
   "metadata": {},
   "outputs": [
    {
     "name": "stdout",
     "output_type": "stream",
     "text": [
      "242\n",
      "0b11110010\n"
     ]
    }
   ],
   "source": [
    "def maj(x, y, z):\n",
    "    return (x & y) ^ (y & z) ^ (z & x)\n",
    "\n",
    "#Example usage\n",
    "result = maj(0xe3, 0xf4, 0x5a)\n",
    "print(result)\n",
    "print(bin(result))"
   ]
  },
  {
   "cell_type": "markdown",
   "metadata": {},
   "source": [
    "# Task 2 : Hash Functions\n"
   ]
  },
  {
   "cell_type": "code",
   "execution_count": 46,
   "metadata": {},
   "outputs": [
    {
     "name": "stdout",
     "output_type": "stream",
     "text": [
      "38\n"
     ]
    }
   ],
   "source": [
    "def hash(chars):\n",
    "    hashval = 0\n",
    "    for char in chars:\n",
    "        hashval = ord(char) + 31 * hashval\n",
    "    return hashval % 101\n",
    "\n",
    "# Example usage\n",
    "result = hash(['O', 'L', 'I', 'V', 'E', 'R'])\n",
    "print(result)"
   ]
  },
  {
   "cell_type": "markdown",
   "metadata": {},
   "source": [
    "When "
   ]
  }
 ],
 "metadata": {
  "kernelspec": {
   "display_name": "Python 3",
   "language": "python",
   "name": "python3"
  },
  "language_info": {
   "codemirror_mode": {
    "name": "ipython",
    "version": 3
   },
   "file_extension": ".py",
   "mimetype": "text/x-python",
   "name": "python",
   "nbconvert_exporter": "python",
   "pygments_lexer": "ipython3",
   "version": "3.12.1"
  },
  "orig_nbformat": 4
 },
 "nbformat": 4,
 "nbformat_minor": 2
}
