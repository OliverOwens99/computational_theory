{
 "cells": [
  {
   "attachments": {},
   "cell_type": "markdown",
   "metadata": {},
   "source": [
    "# Tasks\n",
    "## Task 1 : Binary Representations\n",
    "\n",
    "I will do this using several functions rotate left, rotate right  a choose function and an majority function. Let's start with the rotate left function I want to rotate the bits in a 32 bit unsigned integer too n places n being anything so lets do this one first. \n"
   ]
  },
  {
   "cell_type": "code",
   "execution_count": 20,
   "metadata": {},
   "outputs": [],
   "source": [
    "d = 0xe3\n"
   ]
  },
  {
   "cell_type": "code",
   "execution_count": 21,
   "metadata": {},
   "outputs": [
    {
     "name": "stdout",
     "output_type": "stream",
     "text": [
      "227\n"
     ]
    }
   ],
   "source": [
    "print(d)"
   ]
  },
  {
   "cell_type": "code",
   "execution_count": 22,
   "metadata": {},
   "outputs": [
    {
     "data": {
      "text/plain": [
       "'0b11100011'"
      ]
     },
     "execution_count": 22,
     "metadata": {},
     "output_type": "execute_result"
    }
   ],
   "source": [
    "bin(d)"
   ]
  },
  {
   "cell_type": "code",
   "execution_count": 23,
   "metadata": {},
   "outputs": [
    {
     "data": {
      "text/plain": [
       "'0b11100011000'"
      ]
     },
     "execution_count": 23,
     "metadata": {},
     "output_type": "execute_result"
    }
   ],
   "source": [
    "bin(d <<3)"
   ]
  },
  {
   "cell_type": "code",
   "execution_count": 24,
   "metadata": {},
   "outputs": [
    {
     "data": {
      "text/plain": [
       "'0b111'"
      ]
     },
     "execution_count": 24,
     "metadata": {},
     "output_type": "execute_result"
    }
   ],
   "source": [
    "bin(d >> 5)"
   ]
  },
  {
   "cell_type": "code",
   "execution_count": 25,
   "metadata": {},
   "outputs": [
    {
     "data": {
      "text/plain": [
       "'0b11100011111'"
      ]
     },
     "execution_count": 25,
     "metadata": {},
     "output_type": "execute_result"
    }
   ],
   "source": [
    "bin((d << 3) | (d >> 5))"
   ]
  },
  {
   "cell_type": "code",
   "execution_count": 26,
   "metadata": {},
   "outputs": [
    {
     "data": {
      "text/plain": [
       "88"
      ]
     },
     "execution_count": 26,
     "metadata": {},
     "output_type": "execute_result"
    }
   ],
   "source": [
    "0xb << 3"
   ]
  },
  {
   "cell_type": "markdown",
   "metadata": {},
   "source": [
    "## Task 1a\n",
    "The number is shifted left by x positions using n << x\n",
    "The bits that \"fall off\" the left are caught and moved to the right using n >> (int_bits - x)\n",
    "The two results are combined using the bitwise OR operator |"
   ]
  },
  {
   "cell_type": "code",
   "execution_count": 27,
   "metadata": {},
   "outputs": [],
   "source": [
    "import numpy\n",
    "\n",
    "int_bits = 32\n",
    "\n",
    "x=2\n",
    "n=42\n",
    "\n",
    "def rotl(n ,x):\n",
    "\n",
    "    return (n << x)|(n >> (int_bits - x))\n",
    "\n",
    "\n"
   ]
  },
  {
   "cell_type": "code",
   "execution_count": 28,
   "metadata": {},
   "outputs": [
    {
     "name": "stdout",
     "output_type": "stream",
     "text": [
      "Left Rotation of 42 by 2 is 168\n"
     ]
    }
   ],
   "source": [
    "print(\"Left Rotation of\",n,\"by\"\n",
    "      ,x,\"is\",end=\" \")\n",
    "print(rotl(n, x))"
   ]
  },
  {
   "cell_type": "markdown",
   "metadata": {},
   "source": [
    "here is some more exmaples to test wether the code is doing what I think it is doing "
   ]
  },
  {
   "cell_type": "code",
   "execution_count": 29,
   "metadata": {},
   "outputs": [
    {
     "name": "stdout",
     "output_type": "stream",
     "text": [
      "Left Rotation of 42 by 16 is 2752512\n"
     ]
    }
   ],
   "source": [
    "#Test example 2\n",
    "x=16\n",
    "n=42\n",
    "print(\"Left Rotation of\",n,\"by\"\n",
    "        ,x,\"is\",end=\" \")\n",
    "print(rotl(n, x))"
   ]
  },
  {
   "cell_type": "code",
   "execution_count": 30,
   "metadata": {},
   "outputs": [
    {
     "name": "stdout",
     "output_type": "stream",
     "text": [
      "Left Rotation of 64 by 24 is 1073741824\n"
     ]
    }
   ],
   "source": [
    "#Test example 3\n",
    "x=24\n",
    "n=64\n",
    "print(\"Left Rotation of\",n,\"by\"\n",
    "        ,x,\"is\",end=\" \")\n",
    "print(rotl(n, x))\n"
   ]
  },
  {
   "cell_type": "markdown",
   "metadata": {},
   "source": [
    "## Task 1b\n",
    "The number is shifted right by x positions using n >> x\n",
    "The bits that \"fall off\" the right are caught and moved to the left using n << (int_bits - x)\n",
    "The two results are combined using the bitwise OR operator |"
   ]
  },
  {
   "cell_type": "code",
   "execution_count": 31,
   "metadata": {},
   "outputs": [],
   "source": [
    "def rotr(n ,x):\n",
    "\n",
    "    return (n >> x)|(n << (int_bits - x)) & 0xFFFFFFFF"
   ]
  },
  {
   "cell_type": "markdown",
   "metadata": {},
   "source": [
    "### Note on Bitwise Operations\n",
    "The `0xFFFFFFFF` mask in the right rotation function ensures we keep only the 32 least significant bits. In Python, integers have arbitrary precision, so without this mask, left shifts might create values larger than 32 bits when large numbers are rotated."
   ]
  },
  {
   "cell_type": "code",
   "execution_count": 32,
   "metadata": {},
   "outputs": [
    {
     "name": "stdout",
     "output_type": "stream",
     "text": [
      "Right Rotation of 64 by 24 is 16384\n"
     ]
    }
   ],
   "source": [
    "print(\"Right Rotation of\",n,\"by\"\n",
    "      ,x,\"is\",end=\" \")\n",
    "print(rotr(n, x))"
   ]
  },
  {
   "cell_type": "code",
   "execution_count": null,
   "metadata": {},
   "outputs": [],
   "source": []
  },
  {
   "cell_type": "markdown",
   "metadata": {},
   "source": [
    "### Task 1c \n",
    "Here we will make a function ch(x, y, z) that chooses the bits from y where x has bits set to 1 and bits in z where x has bits set to 0.\n",
    "\n"
   ]
  },
  {
   "cell_type": "code",
   "execution_count": 33,
   "metadata": {},
   "outputs": [
    {
     "name": "stdout",
     "output_type": "stream",
     "text": [
      "2\n"
     ]
    }
   ],
   "source": [
    "def ch(x, y, z):\n",
    "\n",
    "    return (x & y) ^ (~x & z)\n",
    "\n",
    "print(ch(0x1, 0x2, 0x3))"
   ]
  },
  {
   "cell_type": "markdown",
   "metadata": {},
   "source": [
    "The function ch takes three arguments x, y, and z.\n",
    "It performs a bitwise AND operation between x and y.\n",
    "It performs a bitwise AND operation between the bitwise NOT of x and z.\n",
    "It then performs a bitwise XOR operation between the results of the two AND operations.\n",
    "The result of the XOR operation is returned"
   ]
  },
  {
   "cell_type": "markdown",
   "metadata": {},
   "source": [
    "### Task1d the maj function \n",
    "\n",
    "The function maj(x, y, z) which takes a majority vote of the bits in x, y, and z. The output should have a 1 in bit position i where at least two of x, y, and z have 1's in position i. All other output bit positions should be 0. So this is a simple voting system where the computer decideds on which bit is on or off so to speak for the different bit positions. For each bit position in the paramters it decides if they are yes or no if 2 out of the three are yess the answer is yes if not the answer is no. This implementation follows the Secure Hash Standard (NIST FIPS 180-4) specifications for circular bit rotation operations used in cryptographic hash functions."
   ]
  },
  {
   "cell_type": "markdown",
   "metadata": {},
   "source": [
    "I tried to use OR (|) instead of XOR(^) intially but it ultimatly doesnt really matter because of the properties of xor when used in pairs.\n"
   ]
  },
  {
   "cell_type": "code",
   "execution_count": 34,
   "metadata": {},
   "outputs": [
    {
     "name": "stdout",
     "output_type": "stream",
     "text": [
      "242\n",
      "0b11110010\n"
     ]
    }
   ],
   "source": [
    "def maj(x, y, z):\n",
    "    return (x & y) ^ (y & z) ^ (z & x)\n",
    "\n",
    "\n",
    "result = maj(0xe3, 0xf4, 0x5a)\n",
    "print(result)\n",
    "print(bin(result))"
   ]
  },
  {
   "cell_type": "markdown",
   "metadata": {},
   "source": [
    "### Implementation Choice\n",
    "I chose `^` (XOR) instead of `|` (OR) because XOR specifically identifies bits that appear in exactly one of its operands. When taking majority votes across pairs of inputs, the XOR pattern correctly identifies where exactly two out of three bits are set."
   ]
  },
  {
   "cell_type": "markdown",
   "metadata": {},
   "source": [
    "# Task 2 : Hash Functions\n"
   ]
  },
  {
   "cell_type": "markdown",
   "metadata": {},
   "source": [
    "\"The hashing function, which is used by both lookup and install, adds each character value\n",
    "in the string to a scrambled combination of the previous ones and returns the remainder\n",
    "modulo the array size. This is not the best possible hash function, but it is short and effective.\n",
    " /* hash: form hash value for string s */\n",
    " unsigned hash(char *s)\n",
    " {\n",
    " unsigned hashval;\n",
    " for (hashval = 0; *s != '\\0'; s++)\n",
    " hashval = *s + 31 * hashval;\n",
    " 129\n",
    " return hashval % HASHSIZE;\n",
    " }\n",
    "Unsigned arithmetic ensures that the hash value is non-negative.\" form the The C programming language by BRIAN W. KERNIGHAN and DENNIS M.RITCHIE\n",
    "\n",
    "Below is my python implementaion the reason why 31 and 101 were used as they seem as 31 is close to 32 so it is perfect for the masking of asci characters this is also why we use ord to ensure it is ascii characters we are using the ne mod 101 the reason for 101  it is a prime number  is effective like they mention not the best possible hash function but works well.\n",
    "\n",
    "ord() converts to ASCII (0-127)\n",
    "Multiplication by 31 provides:\n",
    "Good bit distribution\n",
    "CPU-efficient operations\n",
    "Effective string character mixing\n",
    "Modulo 101 ensures:\n",
    "Bounded output range\n",
    "Even distribution\n",
    "Minimal collisions"
   ]
  },
  {
   "cell_type": "code",
   "execution_count": 35,
   "metadata": {},
   "outputs": [
    {
     "name": "stdout",
     "output_type": "stream",
     "text": [
      "38\n"
     ]
    }
   ],
   "source": [
    "def hash(chars):\n",
    "    hashval = 0\n",
    "    for char in chars:\n",
    "        hashval = ord(char) + 31 * hashval\n",
    "    return hashval % 101\n",
    "\n",
    "# Example with my name\n",
    "result = hash(['O', 'L', 'I', 'V', 'E', 'R'])\n",
    "print(result)"
   ]
  },
  {
   "cell_type": "markdown",
   "metadata": {},
   "source": [
    " ### Hash Constant Selection\n",
    "I chose 31 as the multiplication factor because it's a prime number close to a power of 2 (32), making it efficient for bit-shifting operations while avoiding common patterns that might cause collisions. The modulo 101 provides a good balance between hash space size and collision avoidance. The reasons why these numbers are so good no one knows I suspect it might have something to do with the proximity to 32 and 100 respectively but that is unproven"
   ]
  },
  {
   "cell_type": "markdown",
   "metadata": {},
   "source": [
    "# Task 3\n",
    "## Sha256"
   ]
  },
  {
   "cell_type": "markdown",
   "metadata": {},
   "source": [
    "## Understanding SHA-256 Padding\n",
    "\n",
    "SHA-256 (Secure Hash Algorithm 256-bit) is a cryptographic hash function that's part of the SHA-2 family designed by the NSA. It produces a 256-bit (32-byte) hash value, typically rendered as a 64-digit hexadecimal number.\n",
    "\n",
    "### Key Properties of SHA-256:\n",
    "- **One-way function**: Computationally infeasible to reverse\n",
    "- **Deterministic**: Same input always produces the same output\n",
    "- **Avalanche effect**: Small changes in input cause significant changes in output\n",
    "- **Collision resistance**: Difficult to find two different inputs with the same hash\n",
    "\n",
    "### Padding Mechanism\n",
    "SHA-256 operates on blocks of 512 bits. When a message doesn't perfectly fit into these blocks, padding is required. The padding follows a specific format:\n",
    "1. Append a single '1' bit\n",
    "2. Append '0' bits until the message length is 64 bits short of a multiple of 512\n",
    "3. Append the original message length as a 64-bit big-endian integer\n",
    "\n",
    "This padding ensures that the message is properly structured for the hash algorithm and helps maintain the security properties of the hash function."
   ]
  },
  {
   "cell_type": "code",
   "execution_count": 36,
   "metadata": {},
   "outputs": [],
   "source": [
    "def calculate_sha256_padding(file_path):\n",
    "    # Get the file size by reading the file directly\n",
    "    with open(file_path, 'rb') as f:\n",
    "        file_content = f.read()\n",
    "        file_size = len(file_content)\n",
    "    \n",
    "    # Calculate the file size in bits\n",
    "    file_size_bits = file_size * 8\n",
    "    \n",
    "    # Calculate the number of padding bytes needed\n",
    "    # We need: 1 byte for the '1' bit + zeros + 8 bytes for the length\n",
    "    # The total length must be a multiple of 64 bytes (512 bits)\n",
    "    padding_length = 64 - ((file_size + 1 + 8) % 64)\n",
    "    if padding_length == 64:\n",
    "        padding_length = 0\n",
    "    \n",
    "    # Create the padding\n",
    "    # First byte: 0x80 (binary 10000000) - the '1' bit followed by 7 zeros\n",
    "    padding = bytearray([0x80])\n",
    "    \n",
    "    # Add the required number of zero bytes\n",
    "    padding.extend([0x00] * padding_length)\n",
    "    \n",
    "    # Add the original message length as a 64-bit big-endian value\n",
    "    padding.extend(file_size_bits.to_bytes(8, byteorder='big'))\n",
    "    \n",
    "    # Format the output as hex bytes with spaces\n",
    "    padding_hex = ' '.join(f'{b:02x}' for b in padding)\n",
    "    \n",
    "    print(f\"SHA-256 padding for file '{file_path}':\")\n",
    "    print(padding_hex)\n",
    "    \n",
    "    return padding"
   ]
  },
  {
   "cell_type": "markdown",
   "metadata": {},
   "source": [
    "### Byte Representation Details\n",
    "The `0x80` byte represents 10000000 in binary - this adds the required '1' bit followed by 7 zeros. This approach lets the system work with whole bytes rather than individual bits, which is more efficient in most programming languages."
   ]
  },
  {
   "cell_type": "markdown",
   "metadata": {},
   "source": [
    "# Task 4 : Calculating the First 100 prime numbers\n"
   ]
  },
  {
   "cell_type": "markdown",
   "metadata": {},
   "source": [
    "The Sieve of Eratosthenes is one of the oldest algorithms for finding prime numbers, attributed to Eratosthenes of Cyrene, a Greek mathematician who lived in the 3rd century BCE (276-194 BCE). He was the chief librarian at the Library of Alexandria and made significant contributions to mathematics, geography, and astronomy.\n",
    "\n",
    "Algorithmic Complexity\n",
    "Time Complexity: O(n log log n)\n",
    "This is better than the naive O(n²) approach\n",
    "The inner loop executes approximately n/2 + n/3 + n/5 + ... times, which evaluates to O(n log log n)\n",
    "Space Complexity: O(n)\n",
    "Requires a boolean array of size n+1\n",
    "Programming Perspective\n",
    "\n",
    "Advantages:\n",
    "- Very efficient for generating all primes up to a certain limit\n",
    "- Simple to implement and understand\n",
    "- Optimal asymptotic complexity for finding all primes in a range\n",
    "\n",
    "Disadvantages:\n",
    "- Memory-intensive for large values of n\n",
    "- Not suitable when you only need to check if a single number is prime\n",
    "- Not easily parallelizable in its basic form\n",
    "\n",
    "I picked this primarily because I liked the name and I think its good idea to have a older inefficent one for context. "
   ]
  },
  {
   "cell_type": "code",
   "execution_count": 37,
   "metadata": {},
   "outputs": [
    {
     "name": "stdout",
     "output_type": "stream",
     "text": [
      "First 100 primes (Sieve of Eratosthenes):\n",
      "First 5 primes: [2, 3, 5, 7, 11]\n",
      "Last 5 primes: [503, 509, 521, 523, 541]\n",
      "Count: 100\n"
     ]
    }
   ],
   "source": [
    "# Algoritim 1 : Sieve of Eratosthenes\n",
    "def sieve_of_eratosthenes(n):\n",
    "    \"\"\"\n",
    "    Find all prime numbers up to n using the Sieve of Eratosthenes.\n",
    "    Returns a list of prime numbers.\n",
    "    \"\"\"\n",
    "    # Initialize the sieve array with True values\n",
    "    sieve = [True] * (n + 1)\n",
    "    # 0 and 1 are not prime\n",
    "    sieve[0] = sieve[1] = False\n",
    "    \n",
    "    # Check numbers from 2 to sqrt(n)\n",
    "    for i in range(2, int(n**0.5) + 1):\n",
    "        # If i is prime (not marked false yet)\n",
    "        if sieve[i]:\n",
    "            # Mark all multiples of i as non-prime\n",
    "            for j in range(i*i, n + 1, i):\n",
    "                sieve[j] = False\n",
    "    \n",
    "    # Collect all prime numbers from the sieve\n",
    "    primes = [i for i in range(2, n + 1) if sieve[i]]\n",
    "    return primes\n",
    "\n",
    "# Find enough prime numbers to ensure we get at least 100\n",
    "first_100_primes = sieve_of_eratosthenes(550)[:100]\n",
    "print(\"First 100 primes (Sieve of Eratosthenes):\")\n",
    "print(f\"First 5 primes: {first_100_primes[:5]}\")\n",
    "print(f\"Last 5 primes: {first_100_primes[-5:]}\")\n",
    "print(f\"Count: {len(first_100_primes)}\")\n",
    "\n"
   ]
  },
  {
   "cell_type": "markdown",
   "metadata": {},
   "source": [
    "### Sieve Optimisation\n",
    "I optimised the sieve implementation by starting the inner loop at i*i instead of 2*i, since all multiples of i less than i*i would have already been marked by considering smaller primes. This reduces the number of unnecessary operations."
   ]
  },
  {
   "cell_type": "markdown",
   "metadata": {},
   "source": [
    "# Trial Division\n",
    "## Historical Background\n",
    "Trial division is the most basic primality test and has been known since ancient times. It doesn't have a specific inventor as it follows directly from the definition of prime numbers. The optimization of checking only up to the square root comes from ancient Greek mathematics, and the further optimization of checking only numbers of form 6k±1 is a more modern enhancement.\n",
    "\n",
    "Algorithmic Complexity\n",
    "Time Complexity:\n",
    "\n",
    "For checking a single number n: O(√n)\n",
    "For finding first m primes: O(m² log m) approximately, because:\n",
    "The mth prime is approximately m log m (by the Prime Number Theorem)\n",
    "Each primality check takes O(√n) time\n",
    "This makes it less efficient than the Sieve for finding multiple primes\n",
    "Space Complexity: O(1) for checking primality, O(m) for storing m primes\n",
    "\n",
    "Programming Perspective\n",
    "Advantages:\n",
    "- Simple to understand and implement\n",
    "- Memory-efficient when checking individual numbers\n",
    "- Works well for sparse primality testing\n",
    "- Can be stopped as soon as a desired count is reached\n",
    "\n",
    "Disadvantages:\n",
    "- Inefficient for finding large quantities of primes\n",
    "- Performance heavily depends on optimization techniques\n",
    "- Becomes very slow for large numbers"
   ]
  },
  {
   "cell_type": "code",
   "execution_count": 38,
   "metadata": {},
   "outputs": [
    {
     "name": "stdout",
     "output_type": "stream",
     "text": [
      "\n",
      "First 100 primes (Trial Division):\n",
      "First 5 primes: [2, 3, 5, 7, 11]\n",
      "Last 5 primes: [503, 509, 521, 523, 541]\n",
      "Count: 100\n"
     ]
    }
   ],
   "source": [
    "# Algorithm 2 : Trial Division\n",
    "def is_prime(n):\n",
    "    \"\"\"Check if a number is prime using trial division.\"\"\"\n",
    "    if n <= 1:\n",
    "        return False\n",
    "    if n <= 3:\n",
    "        return True\n",
    "    if n % 2 == 0 or n % 3 == 0:\n",
    "        return False\n",
    "    \n",
    "    # Check divisibility by numbers of form 6k ± 1\n",
    "    i = 5\n",
    "    while i * i <= n:\n",
    "        if n % i == 0 or n % (i + 2) == 0:\n",
    "            return False\n",
    "        i += 6\n",
    "    return True\n",
    "\n",
    "def find_first_n_primes(n):\n",
    "    \"\"\"Find the first n prime numbers using trial division.\"\"\"\n",
    "    primes = []\n",
    "    num = 2\n",
    "    while len(primes) < n:\n",
    "        if is_prime(num):\n",
    "            primes.append(num)\n",
    "        num += 1\n",
    "    return primes\n",
    "\n",
    "first_100_primes_trial = find_first_n_primes(100)\n",
    "print(\"\\nFirst 100 primes (Trial Division):\")\n",
    "print(f\"First 5 primes: {first_100_primes_trial[:5]}\")\n",
    "print(f\"Last 5 primes: {first_100_primes_trial[-5:]}\")\n",
    "print(f\"Count: {len(first_100_primes_trial)}\")"
   ]
  },
  {
   "cell_type": "markdown",
   "metadata": {},
   "source": [
    "# Task 5 : Roots"
   ]
  },
  {
   "cell_type": "markdown",
   "metadata": {},
   "source": [
    "## Bit Representation of Square Roots\n",
    "\n",
    "This task explores the binary representation of the fractional parts of square roots, particularly of prime numbers. This has applications in:\n",
    "\n",
    "- **Random number generation**: Square roots of primes produce high-quality pseudo-random sequences\n",
    "- **Cryptographic constants**: Many cryptographic algorithms use these values as initialisation vectors\n",
    "- **Number theory**: Examining patterns in these bit sequences provides insights into irrational numbers\n",
    "\n",
    "### Method Used\n",
    "The system extracts the first 32 bits of the fractional part of square roots by:\n",
    "1. Computing the square root using standard mathematical libraries\n",
    "2. Removing the integer part to isolate the fractional component\n",
    "3. Repeatedly multiplying by 2 and checking if the result exceeds 1\n",
    "4. Building a binary string bit by bit based on this process\n",
    "\n",
    "This is effectively the same algorithm used to convert decimal fractions to binary, applied specifically to the fractional parts of square roots.\n",
    "\n",
    "### Significance\n",
    "The fractional parts of square roots of different numbers, especially primes, appear to be randomly distributed. This property makes them useful as sources of \"nothing-up-my-sleeve numbers\" - constants that are derived from a simple, well-defined process rather than arbitrarily chosen."
   ]
  },
  {
   "cell_type": "code",
   "execution_count": 39,
   "metadata": {},
   "outputs": [
    {
     "name": "stdout",
     "output_type": "stream",
     "text": [
      "Square roots of the first 100 primes (direct calculation method):\n",
      "--------------------------------------------------------------------------------\n",
      "Prime | Square Root | First 32 bits of fractional part | Hex representation\n",
      "--------------------------------------------------------------------------------\n",
      "    2 | 1.41421356 | 01101010000010011110011001100111 | 0x6a09e667\n",
      "    3 | 1.73205081 | 10111011011001111010111010000101 | 0xbb67ae85\n",
      "    5 | 2.23606798 | 00111100011011101111001101110010 | 0x3c6ef372\n",
      "    7 | 2.64575131 | 10100101010011111111010100111010 | 0xa54ff53a\n",
      "   11 | 3.31662479 | 01010001000011100101001001111111 | 0x510e527f\n",
      "   13 | 3.60555128 | 10011011000001010110100010001100 | 0x9b05688c\n",
      "   17 | 4.12310563 | 00011111100000111101100110101011 | 0x1f83d9ab\n",
      "   19 | 4.35889894 | 01011011111000001100110100011001 | 0x5be0cd19\n",
      "   23 | 4.79583152 | 11001011101110111001110101011101 | 0xcbbb9d5d\n",
      "   29 | 5.38516481 | 01100010100110100010100100101010 | 0x629a292a\n",
      "   31 | 5.56776436 | 10010001010110010000000101011010 | 0x9159015a\n",
      "   37 | 6.08276253 | 00010101001011111110110011011000 | 0x152fecd8\n",
      "   41 | 6.40312424 | 01100111001100110010011001100111 | 0x67332667\n",
      "   43 | 6.55743852 | 10001110101101000100101010000111 | 0x8eb44a87\n",
      "   47 | 6.85565460 | 11011011000011000010111000001101 | 0xdb0c2e0d\n",
      "   53 | 7.28010989 | 01000111101101010100100000011101 | 0x47b5481d\n",
      "   59 | 7.68114575 | 10101110010111111001000101010110 | 0xae5f9156\n",
      "   61 | 7.81024968 | 11001111011011001000010111010011 | 0xcf6c85d3\n",
      "   67 | 8.18535277 | 00101111011100110100011101111101 | 0x2f73477d\n",
      "   71 | 8.42614977 | 01101101000110000010011011001010 | 0x6d1826ca\n",
      "   73 | 8.54400375 | 10001011010000111101010001010111 | 0x8b43d457\n",
      "   79 | 8.88819442 | 11100011011000001011010110010110 | 0xe360b596\n",
      "   83 | 9.11043358 | 00011100010001010110000000000010 | 0x1c456002\n",
      "   89 | 9.43398113 | 01101111000110010110001100110001 | 0x6f196331\n",
      "   97 | 9.84885780 | 11011001010011101011111010110001 | 0xd94ebeb1\n",
      "  101 | 10.04987562 | 00001100110001001010011000010001 | 0x0cc4a611\n",
      "  103 | 10.14889157 | 00100110000111011100000111110010 | 0x261dc1f2\n",
      "  107 | 10.34408043 | 01011000000101011010011110111110 | 0x5815a7be\n",
      "  109 | 10.44030651 | 01110000101101111110110101100111 | 0x70b7ed67\n",
      "  113 | 10.63014581 | 10100001010100010011110001101001 | 0xa1513c69\n",
      "  127 | 11.26942767 | 01000100111110010011011000110101 | 0x44f93635\n",
      "  131 | 11.44552314 | 01110010000011011100110111111101 | 0x720dcdfd\n",
      "  137 | 11.70469991 | 10110100011001110011011010011110 | 0xb467369e\n",
      "  139 | 11.78982612 | 11001010001100100000101101110101 | 0xca320b75\n",
      "  149 | 12.20655562 | 00110100111000001101010000101110 | 0x34e0d42e\n",
      "  151 | 12.28820573 | 01001001110001111101100110111101 | 0x49c7d9bd\n",
      "  157 | 12.52996409 | 10000111101010111011100111110010 | 0x87abb9f2\n",
      "  163 | 12.76714533 | 11000100011000111010001011111100 | 0xc463a2fc\n",
      "  167 | 12.92284798 | 11101100001111111100001111110011 | 0xec3fc3f3\n",
      "  173 | 13.15294644 | 00100111001001110111111101101101 | 0x27277f6d\n",
      "  179 | 13.37908816 | 01100001000010111110101111110010 | 0x610bebf2\n",
      "  181 | 13.45362405 | 01110100001000001011010010011110 | 0x7420b49e\n",
      "  191 | 13.82027496 | 11010001111111011000101000110011 | 0xd1fd8a33\n",
      "  193 | 13.89244399 | 11100100011101110011010110010100 | 0xe4773594\n",
      "  197 | 14.03566885 | 00001001001000011001011111110110 | 0x092197f6\n",
      "  199 | 14.10673598 | 00011011010100110000110010010101 | 0x1b530c95\n",
      "  211 | 14.52583905 | 10000110100111010110001101000010 | 0x869d6342\n",
      "  223 | 14.93318452 | 11101110111001010010111001001111 | 0xeee52e4f\n",
      "  227 | 15.06651917 | 00010001000001110110011010001001 | 0x11076689\n",
      "  229 | 15.13274595 | 00100001111110111010001101111011 | 0x21fba37b\n",
      "  233 | 15.26433752 | 01000011101010111001111110110110 | 0x43ab9fb6\n",
      "  239 | 15.45962483 | 01110101101010011111100100011101 | 0x75a9f91d\n",
      "  241 | 15.52417470 | 10000110001100000101000000011001 | 0x86305019\n",
      "  251 | 15.84297952 | 11010111110011011000000101110011 | 0xd7cd8173\n",
      "  257 | 16.03121954 | 00000111111111100000000011111111 | 0x07fe00ff\n",
      "  263 | 16.21727474 | 00110111100111110101000100111111 | 0x379f513f\n",
      "  269 | 16.40121947 | 01100110101101100101000110101000 | 0x66b651a8\n",
      "  271 | 16.46207763 | 01110110010010101011100001000010 | 0x764ab842\n",
      "  277 | 16.64331698 | 10100100101100000110101111100001 | 0xa4b06be1\n",
      "  281 | 16.76305461 | 11000011010101111000110000010101 | 0xc3578c15\n",
      "  283 | 16.82260384 | 11010010100101100010101001010011 | 0xd2962a53\n",
      "  293 | 17.11724277 | 00011110000000111001111101000000 | 0x1e039f40\n",
      "  307 | 17.52141547 | 10000101011110110111101111101110 | 0x857b7bee\n",
      "  311 | 17.63519209 | 10100010100110111111001011011110 | 0xa29bf2de\n",
      "  313 | 17.69180601 | 10110001000110100011001011101000 | 0xb11a32e8\n",
      "  317 | 17.80449381 | 11001101111100110100111010000000 | 0xcdf34e80\n",
      "  331 | 18.19340540 | 00110001100000110000010000100110 | 0x31830426\n",
      "  337 | 18.35755975 | 01011011100010010000100100101011 | 0x5b89092b\n",
      "  347 | 18.62793601 | 10100000110000000110101000010011 | 0xa0c06a13\n",
      "  349 | 18.68154169 | 10101110011110011000010000101111 | 0xae79842f\n",
      "  353 | 18.78829423 | 11001001110011011010011010001001 | 0xc9cda689\n",
      "  359 | 18.94729532 | 11110010100000011111001000111001 | 0xf281f239\n",
      "  367 | 19.15724406 | 00101000010000010010010110010010 | 0x28412592\n",
      "  373 | 19.31320792 | 01010000001011100110010011011011 | 0x502e64db\n",
      "  379 | 19.46792233 | 01110111110010011100001000010001 | 0x77c9c211\n",
      "  383 | 19.57038579 | 10010010000001001100110110011101 | 0x9204cd9d\n",
      "  389 | 19.72308292 | 10111001000110111111011001100011 | 0xb91bf663\n",
      "  397 | 19.92485885 | 11101100110000111000110010011101 | 0xecc38c9d\n",
      "  401 | 20.02498439 | 00000110011001010110000010010101 | 0x06656095\n",
      "  409 | 20.22374842 | 00111001010001111001001110000001 | 0x39479381\n",
      "  419 | 20.46948949 | 01111000001100000111011010010111 | 0x78307697\n",
      "  421 | 20.51828453 | 10000100101011100100101101111100 | 0x84ae4b7c\n",
      "  431 | 20.76053949 | 11000010101100101011011101010101 | 0xc2b2b755\n",
      "  433 | 20.80865205 | 11001111000000111101001000001110 | 0xcf03d20e\n",
      "  439 | 20.95232684 | 11110011110010111011000100010111 | 0xf3cbb117\n",
      "  443 | 21.04756518 | 00001100001011010011101101001011 | 0x0c2d3b4b\n",
      "  449 | 21.18962010 | 00110000100010101111000101100001 | 0x308af161\n",
      "  457 | 21.37755833 | 01100000101001111010100110011000 | 0x60a7a998\n",
      "  461 | 21.47091055 | 01111000100011011001100000010010 | 0x788d9812\n",
      "  463 | 21.51743479 | 10000100011101101001101101000010 | 0x84769b42\n",
      "  467 | 21.61018278 | 10011100001101001111000001100010 | 0x9c34f062\n",
      "  479 | 21.88606863 | 11100010110101010110010011000100 | 0xe2d564c4\n",
      "  487 | 22.06807649 | 00010001011011010111010111111101 | 0x116d75fd\n",
      "  491 | 22.15851981 | 00101000100101001100000100000111 | 0x2894c107\n",
      "  499 | 22.33830790 | 01010110100110110101100011000110 | 0x569b58c6\n",
      "  503 | 22.42766149 | 01101101011110110011100100111001 | 0x6d7b3939\n",
      "  509 | 22.56102835 | 10001111100111111000110110111011 | 0x8f9f8dbb\n",
      "  521 | 22.82542442 | 11010011010011110000001111001101 | 0xd34f03cd\n",
      "  523 | 22.86919325 | 11011110100000110111001011101111 | 0xde8372ef\n",
      "  541 | 23.25940670 | 01000010011010000111101000111001 | 0x42687a39\n",
      "--------------------------------------------------------------------------------\n",
      "Total primes processed: 100\n"
     ]
    }
   ],
   "source": [
    "import math\n",
    "\n",
    "def get_fractional_bits_direct(number, bits=32):\n",
    "    \"\"\"\n",
    "    Calculate the first 32 bits of the fractional part of the square root using the direct method.\n",
    "    Returns the integer representation of those bits.\n",
    "    \"\"\"\n",
    "    # Calculate square root\n",
    "    sqrt_value = math.sqrt(number)\n",
    "    \n",
    "    # Get just the fractional part using modulo 1\n",
    "    fractional_part = sqrt_value % 1\n",
    "    \n",
    "    # Shift bits in front of decimal point and convert to integer\n",
    "    bits_int = int(fractional_part * (2 ** bits))\n",
    "    \n",
    "    return bits_int\n",
    "\n",
    "# Use existing primes from the sieve function\n",
    "first_100_primes = sieve_of_eratosthenes(550)[:100]\n",
    "\n",
    "# Calculate and display the results\n",
    "print(\"Square roots of the first 100 primes (direct calculation method):\")\n",
    "print(\"-\" * 80)\n",
    "print(\"Prime | Square Root | First 32 bits of fractional part | Hex representation\")\n",
    "print(\"-\" * 80)\n",
    "\n",
    "for prime in first_100_primes:\n",
    "    # Get integer representation of the bits\n",
    "    bits_int = get_fractional_bits_direct(prime)\n",
    "    \n",
    "    # Format as binary and hex strings\n",
    "    binary_str = format(bits_int, '032b')\n",
    "    hex_representation = format(bits_int, '08x')\n",
    "    sqrt_value = math.sqrt(prime)\n",
    "    \n",
    "    print(f\"{prime:5d} | {sqrt_value:.8f} | {binary_str} | 0x{hex_representation}\")\n",
    "\n",
    "print(\"-\" * 80)\n",
    "print(f\"Total primes processed: {len(first_100_primes)}\")"
   ]
  },
  {
   "cell_type": "markdown",
   "metadata": {},
   "source": [
    "### Bit Extraction Method\n",
    "The bit extraction algorithm mimics how decimal-to-binary conversion works for fractions: repeatedly multiply by 2, take the integer part as the next bit, and continue with the remaining fractional part. This lets us extract bits without relying on floating-point precision issues."
   ]
  },
  {
   "cell_type": "markdown",
   "metadata": {},
   "source": [
    "# Task 6 : Proof of Work\n",
    "\n",
    "Find the word(s) in the English language with the greatest number of 0 bits at the beginning of their SHA256 hash digest.\n",
    "Include proof that any word you list is in at least one English dictionary."
   ]
  },
  {
   "cell_type": "markdown",
   "metadata": {},
   "source": [
    "To solve this problem  I need to do the following \n",
    "- compute the SHA-256 hash of english words\n",
    "- count the number of leading zero bits in the hash \n",
    "- Find the words with the maximum amount of leading zeros bits"
   ]
  },
  {
   "cell_type": "markdown",
   "metadata": {},
   "source": [
    "### Blockchain Connection: Square Roots as Cryptographic Constants\n",
    "The binary representation of square roots of prime numbers plays a crucial role in blockchain technology. Bitcoin's SHA-256 implementation uses similar mathematical constants (cube roots of primes) as initialisation vectors and round constants, ensuring these values are provably not manipulated. These \"nothing-up-my-sleeve\" numbers provide a cryptographic foundation that all network participants can independently verify without trusting any central authority. When Bitcoin's creator needed constants for the hash function, using mathematical derivations from irrational roots ensured transparency, as their values come from mathematics rather than arbitrary choice. This application demonstrates how pure mathematical concepts form the foundation of trustless consensus systems."
   ]
  },
  {
   "cell_type": "code",
   "execution_count": 40,
   "metadata": {},
   "outputs": [
    {
     "name": "stdout",
     "output_type": "stream",
     "text": [
      "Using dictionary at: /workspaces/computational_theory/resources/words.txt\n",
      "Processed 10000 words...\n",
      "Processed 20000 words...\n",
      "Processed 30000 words...\n",
      "Processed 40000 words...\n",
      "\n",
      "Words with the most leading zero bits:\n",
      "------------------------------\n",
      "Word: APPLICANT | Leading zeros: 16\n",
      "------------------------------\n",
      "Total words processed: 45402\n",
      "Dictionary: /workspaces/computational_theory/resources/words.txt\n"
     ]
    }
   ],
   "source": [
    "import hashlib\n",
    "import os\n",
    "\n",
    "def count_leading_zero_bits(hash_bytes):\n",
    "    \"\"\"Count the number of leading zero bits in a hash byte string\"\"\"\n",
    "    count = 0\n",
    "    for byte in hash_bytes:\n",
    "        if byte == 0:\n",
    "            count += 8\n",
    "        else:\n",
    "            # Count leading zeros in this non-zero byte\n",
    "            bits = bin(byte)[2:].zfill(8)\n",
    "            count += bits.index('1')\n",
    "            break\n",
    "    return count\n",
    "\n",
    "def find_words_with_most_leading_zeros(dictionary_path='/workspaces/computational_theory/resources/words.txt'):\n",
    "    \"\"\"Find English words with the most leading zero bits in their SHA-256 hash.\"\"\"\n",
    "    max_zeros = 0\n",
    "    best_words = []\n",
    "    processed = 0\n",
    "    \n",
    "    print(f\"Using dictionary at: {dictionary_path}\")\n",
    "    \n",
    "    with open(dictionary_path, 'r', encoding='utf-8', errors='ignore') as f:\n",
    "        for word in f:\n",
    "            word = word.strip()\n",
    "            if not word:\n",
    "                continue\n",
    "            \n",
    "            processed += 1\n",
    "            if processed % 10000 == 0:\n",
    "                print(f\"Processed {processed} words...\")\n",
    "            \n",
    "            hash_bytes = hashlib.sha256(word.encode('utf-8')).digest()\n",
    "            zeros = count_leading_zero_bits(hash_bytes)\n",
    "            \n",
    "            if zeros > max_zeros:\n",
    "                max_zeros = zeros\n",
    "                best_words = [word]\n",
    "            elif zeros == max_zeros:\n",
    "                best_words.append(word)\n",
    "    \n",
    "    return max_zeros, best_words, processed\n",
    "\n",
    "# Run with path to the local dictionary file\n",
    "dictionary_path = '/workspaces/computational_theory/resources/words.txt'\n",
    "max_zeros, best_words, total_processed = find_words_with_most_leading_zeros(dictionary_path)\n",
    "\n",
    "\n",
    "print(f\"\\nWords with the most leading zero bits:\")\n",
    "print(\"-\" * 30)\n",
    "for word in best_words:\n",
    "    print(f\"Word: {word} | Leading zeros: {max_zeros}\")\n",
    "print(\"-\" * 30)\n",
    "print(f\"Total words processed: {total_processed}\")\n",
    "print(f\"Dictionary: {dictionary_path}\")"
   ]
  },
  {
   "cell_type": "markdown",
   "metadata": {},
   "source": [
    "### Efficient Zero Counting\n",
    "My implementation counts leading zeros in two phases: first checking for whole bytes of zeros (8 bits at a time) for efficiency, then falling back to bit-by-bit counting only when needed. This significantly speeds up processing for hashes with many leading zeros."
   ]
  },
  {
   "cell_type": "markdown",
   "metadata": {},
   "source": [
    "As we can see from the results the word in words.txt taken from the emerging tech mdoule  with the most leading zeros is \"APPLICANT\" at 16 leading zeros"
   ]
  },
  {
   "cell_type": "markdown",
   "metadata": {},
   "source": [
    "# Task 7: Turing Machine\n"
   ]
  },
  {
   "cell_type": "markdown",
   "metadata": {},
   "source": [
    "### Binary Increment Turing Machine\n",
    "\n",
    "This Turing machine adds 1 to a binary number on its tape:\n",
    "\n",
    "1. **State S (Scan)**: Starts at the leftmost digit and scans right until reaching the end of the input\n",
    "2. **State C (Carry)**: Works backward from right to left:\n",
    "   - Changes 1s to 0s (carrying the 1)\n",
    "   - When it finds a 0, changes it to 1 and halts\n",
    "   - If all digits are 1s, adds a new 1 digit at the front\n",
    "3. **State H (Halt)**: Final state reached when addition is complete\n",
    "\n",
    "This implementation correctly handles all cases, including:\n",
    "- Regular addition when there's a 0 digit to change\n",
    "- Overflow cases where all digits are 1s (e.g., 1111 → 10000)\n",
    "- Empty or single-digit inputs\n",
    "\n",
    "The machine demonstrates one of the fundamental operations in computing - binary counting - using only three states and simple transition rules.\n",
    "\n",
    "## Reference\n",
    "\n",
    "3. Turing, A. M. (1936). \"On Computable Numbers, with an Application to the Entscheidungsproblem.\" Proceedings of the London Mathematical Society, Series 2, Volume 42, Issue 1, pp. 230-265.https://www.cs.virginia.edu/~robins/Turing_Paper_1936.pdf"
   ]
  },
  {
   "cell_type": "code",
   "execution_count": 41,
   "metadata": {},
   "outputs": [
    {
     "name": "stdout",
     "output_type": "stream",
     "text": [
      "Testing Binary Increment Machine\n",
      "\n",
      "Example 1: Adding 1 to 100111 (39 decimal)\n",
      "Length of input: 6\n",
      "S100111\n",
      "1S00111\n",
      "10S0111\n",
      "100S111\n",
      "1001S11\n",
      "10011S1\n",
      "100111S_\n",
      "10011C1_\n",
      "1001C10_\n",
      "100C100_\n",
      "10C0000_\n",
      "10H1000_\n",
      "Final result: 101000\n",
      "Number of operations: 11\n",
      "Expected: 101000, Result: 101000\n",
      "\n",
      "Example 2: Adding 1 to 1111 (15 decimal)\n",
      "Length of input: 4\n",
      "S1111\n",
      "1S111\n",
      "11S11\n",
      "111S1\n",
      "1111S_\n",
      "111C1_\n",
      "11C10_\n",
      "1C100_\n",
      "C1000_\n",
      "C_0000_\n",
      "1H0000_\n",
      "Final result: 10000\n",
      "Number of operations: 10\n",
      "Expected: 10000, Result: 10000\n",
      "\n",
      "Example 3: Adding 1 to 0 (0 decimal)\n",
      "Length of input: 1\n",
      "S0\n",
      "0S_\n",
      "C0_\n",
      "H1_\n",
      "Final result: 1\n",
      "Number of operations: 3\n",
      "Expected: 1, Result: 1\n"
     ]
    }
   ],
   "source": [
    "# Define a Turing machine for binary increment\n",
    "Q = {'S', 'C', 'H'}  # States: Scan, Carry, Halt\n",
    "T = {'0', '1', '_'}  # Alphabet\n",
    "b = '_'              # Blank symbol\n",
    "A = {'0', '1'}       # Input alphabet\n",
    "\n",
    "# Transition function with the state table\n",
    "state_table = {\n",
    "    # Scan state - move right until reaching the end\n",
    "    ('S', '0'): ('S', '0', 'R'),  # Stay in S, keep 0, move right\n",
    "    ('S', '1'): ('S', '1', 'R'),  # Stay in S, keep 1, move right\n",
    "    ('S', '_'): ('C', '_', 'L'),  # End reached, move to Carry state, go left\n",
    "    \n",
    "    # Carry state - move left, flip bits as needed\n",
    "    ('C', '0'): ('H', '1', 'N'),  # Found a 0, change to 1, halt\n",
    "    ('C', '1'): ('C', '0', 'L'),  # Found a 1, change to 0, continue carrying left\n",
    "    ('C', '_'): ('H', '1', 'R'),  # Reached left end with all 1s, add new 1, halt\n",
    "}\n",
    "\n",
    "s = 'S'  # Initial state\n",
    "F = {'H'}  # Final/halt state\n",
    "\n",
    "def simulate(table, initial_input, verbose=True, max_steps=1000):\n",
    "    \"\"\"Simulate a Turing machine with safeguards against infinite loops.\"\"\"\n",
    "    if verbose:\n",
    "        print(f'Length of input: {len(initial_input)}')\n",
    "    \n",
    "    # Keep track of number of operations\n",
    "    no_ops = 0\n",
    "\n",
    "    # Check for empty input\n",
    "    if initial_input == '':\n",
    "        initial_input = '_'\n",
    "    \n",
    "    # Make input a list\n",
    "    tape = list(initial_input)\n",
    "    \n",
    "    # Initial position on the tape\n",
    "    pos = 0\n",
    "\n",
    "    # Use the defined initial state directly\n",
    "    state = s  # Use the predefined initial state\n",
    "    \n",
    "    if verbose:\n",
    "        # Print starting config\n",
    "        print(state + ''.join(tape))\n",
    "\n",
    "    # While not in a final state and within step limit\n",
    "    while state not in F and no_ops < max_steps:\n",
    "        try:\n",
    "            # Get current symbol\n",
    "            symbol = tape[pos]\n",
    "            \n",
    "            # Get next state, symbol, and direction\n",
    "            state, tape[pos], direction = table[(state, symbol)]\n",
    "            \n",
    "            # Increment number of operations\n",
    "            no_ops += 1\n",
    "            \n",
    "            # Move cell based on direction\n",
    "            if direction == 'L':\n",
    "                pos -= 1\n",
    "            elif direction == 'R':\n",
    "                pos += 1\n",
    "            # 'N' (no movement) is handled implicitly\n",
    "            \n",
    "            # Fix problems with Python lists being finite\n",
    "            if pos < 0:\n",
    "                tape = [b] + tape\n",
    "                pos = 0\n",
    "            if pos == len(tape):\n",
    "                tape.append('_')\n",
    "\n",
    "            if verbose:\n",
    "                # Print current configuration\n",
    "                print(''.join(tape[:pos]) + state + ''.join(tape[pos:]))\n",
    "                \n",
    "        except KeyError:\n",
    "            if verbose:\n",
    "                print(f\"Error: No transition defined for state '{state}' and symbol '{symbol}'\")\n",
    "            break\n",
    "\n",
    "    if no_ops >= max_steps and verbose:\n",
    "        print(\"Warning: Maximum steps reached, possible infinite loop\")\n",
    "        \n",
    "    if verbose:\n",
    "        # Print final tape content without the state marker\n",
    "        print(f'Final result: {\"\".join(tape).rstrip(\"_\")}')\n",
    "        print(f'Number of operations: {no_ops}')\n",
    "    \n",
    "    return state, ''.join(tape).rstrip('_')\n",
    "\n",
    "# Test examples\n",
    "print(\"Testing Binary Increment Machine\")\n",
    "print(\"\\nExample 1: Adding 1 to 100111 (39 decimal)\")\n",
    "final_state, result = simulate(state_table, '100111')\n",
    "print(f\"Expected: 101000, Result: {result}\")\n",
    "\n",
    "print(\"\\nExample 2: Adding 1 to 1111 (15 decimal)\")\n",
    "final_state, result = simulate(state_table, '1111')\n",
    "print(f\"Expected: 10000, Result: {result}\")\n",
    "\n",
    "print(\"\\nExample 3: Adding 1 to 0 (0 decimal)\")\n",
    "final_state, result = simulate(state_table, '0')\n",
    "print(f\"Expected: 1, Result: {result}\")"
   ]
  },
  {
   "cell_type": "markdown",
   "metadata": {},
   "source": [
    "### State Transition Design\n",
    "The Turing machine state transitions follow a specific pattern: S (Scan) moves right until it reaches the end of input, C (Carry) works backward flipping 1s to 0s while looking for a 0 to change to 1, and H (Halt) is the final state. This models the carry operation in binary addition perfectly."
   ]
  },
  {
   "cell_type": "markdown",
   "metadata": {},
   "source": [
    "# Task 8: Computational Complexity"
   ]
  },
  {
   "cell_type": "markdown",
   "metadata": {},
   "source": [
    "## Computational Complexity Analysis of Sorting Algorithms\n",
    "\n",
    "### Bubble Sort Analysis\n",
    "\n",
    "#### Time Complexity\n",
    "- **Worst-case:** O(n²) - Occurs when the array is in reverse order\n",
    "- **Average-case:** O(n²) - Even with random data, we expect quadratic time\n",
    "- **Best-case:** O(n) - Occurs when the array is already sorted (with the early termination optimisation)\n",
    "\n",
    "#### Space Complexity\n",
    "- O(1) - Bubble sort is an in-place algorithm that only requires a constant amount of additional memory regardless of input size\n",
    "\n",
    "#### Observations from the implementation\n",
    "The bubble sort implementation with different permutations of [1,2,3,4,5] demonstrates this complexity. The number of comparisons varies from 7 (for nearly sorted arrays) to 10 (for reverse or highly disordered arrays), showing how the algorithm's performance depends on the initial order of elements.\n",
    "\n",
    "### Better Sorting Algorithms\n",
    "\n",
    "#### Merge Sort\n",
    "- **Time Complexity:** O(n log n) in all cases\n",
    "- **Space Complexity:** O(n) - Requires additional memory proportional to the input size\n",
    "- **Advantages:** Stable, predictable performance regardless of input distribution\n",
    "- **Disadvantages:** Not in-place, requires extra memory\n",
    "\n",
    "#### Quick Sort\n",
    "- **Time Complexity:** O(n log n) average, O(n²) worst case\n",
    "- **Space Complexity:** O(log n) average due to recursion stack\n",
    "- **Advantages:** Excellent performance in practice, can be implemented in-place\n",
    "- **Disadvantages:** Unstable, worst-case performance on already sorted arrays (can be mitigated)\n",
    "\n",
    "\n",
    "\n",
    "### Algorithm Selection Considerations\n",
    "\n",
    "The choice of sorting algorithm depends on several factors:\n",
    "- **Input size:** For small arrays (n < 10-20), simpler algorithms like insertion sort can outperform asymptotically better algorithms\n",
    "- **Nearly sorted data:** Insertion sort or bubble sort with early termination excel here\n",
    "- **Memory constraints:** Heap sort or in-place quicksort are preferable when memory is limited\n",
    "- **Stability requirement:** If maintaining relative order of equal elements matters, choose merge sort or insertion sort\n",
    "- **Guaranteed performance:** When worst-case performance matters, avoid quicksort and choose merge sort or heap sort\n",
    "\n",
    "### Conclusion\n",
    "While the bubble sort implementation works for small datasets, it would be impractical for larger arrays due to its O(n²) complexity. In a production environment, most programming languages provide optimised sorting functions that typically implement adaptive strategies, often using hybrid algorithms like Timsort (Python, Java) that combine the strengths of different sorting approaches"
   ]
  },
  {
   "cell_type": "code",
   "execution_count": 42,
   "metadata": {},
   "outputs": [
    {
     "name": "stdout",
     "output_type": "stream",
     "text": [
      "Permutation: [1, 2, 3, 4, 5] → Comparisons: 4, Swaps: 0\n",
      "Permutation: [1, 2, 3, 5, 4] → Comparisons: 7, Swaps: 1\n",
      "Permutation: [1, 2, 4, 3, 5] → Comparisons: 7, Swaps: 1\n",
      "Permutation: [1, 2, 4, 5, 3] → Comparisons: 9, Swaps: 2\n",
      "Permutation: [1, 2, 5, 3, 4] → Comparisons: 7, Swaps: 2\n",
      "Permutation: [1, 2, 5, 4, 3] → Comparisons: 9, Swaps: 3\n",
      "Permutation: [1, 3, 2, 4, 5] → Comparisons: 7, Swaps: 1\n",
      "Permutation: [1, 3, 2, 5, 4] → Comparisons: 7, Swaps: 2\n",
      "Permutation: [1, 3, 4, 2, 5] → Comparisons: 9, Swaps: 2\n",
      "Permutation: [1, 3, 4, 5, 2] → Comparisons: 10, Swaps: 3\n",
      "Permutation: [1, 3, 5, 2, 4] → Comparisons: 9, Swaps: 3\n",
      "Permutation: [1, 3, 5, 4, 2] → Comparisons: 10, Swaps: 4\n",
      "Permutation: [1, 4, 2, 3, 5] → Comparisons: 7, Swaps: 2\n",
      "Permutation: [1, 4, 2, 5, 3] → Comparisons: 9, Swaps: 3\n",
      "Permutation: [1, 4, 3, 2, 5] → Comparisons: 9, Swaps: 3\n",
      "Permutation: [1, 4, 3, 5, 2] → Comparisons: 10, Swaps: 4\n",
      "Permutation: [1, 4, 5, 2, 3] → Comparisons: 9, Swaps: 4\n",
      "Permutation: [1, 4, 5, 3, 2] → Comparisons: 10, Swaps: 5\n",
      "Permutation: [1, 5, 2, 3, 4] → Comparisons: 7, Swaps: 3\n",
      "Permutation: [1, 5, 2, 4, 3] → Comparisons: 9, Swaps: 4\n",
      "Permutation: [1, 5, 3, 2, 4] → Comparisons: 9, Swaps: 4\n",
      "Permutation: [1, 5, 3, 4, 2] → Comparisons: 10, Swaps: 5\n",
      "Permutation: [1, 5, 4, 2, 3] → Comparisons: 9, Swaps: 5\n",
      "Permutation: [1, 5, 4, 3, 2] → Comparisons: 10, Swaps: 6\n",
      "Permutation: [2, 1, 3, 4, 5] → Comparisons: 7, Swaps: 1\n",
      "Permutation: [2, 1, 3, 5, 4] → Comparisons: 7, Swaps: 2\n",
      "Permutation: [2, 1, 4, 3, 5] → Comparisons: 7, Swaps: 2\n",
      "Permutation: [2, 1, 4, 5, 3] → Comparisons: 9, Swaps: 3\n",
      "Permutation: [2, 1, 5, 3, 4] → Comparisons: 7, Swaps: 3\n",
      "Permutation: [2, 1, 5, 4, 3] → Comparisons: 9, Swaps: 4\n",
      "Permutation: [2, 3, 1, 4, 5] → Comparisons: 9, Swaps: 2\n",
      "Permutation: [2, 3, 1, 5, 4] → Comparisons: 9, Swaps: 3\n",
      "Permutation: [2, 3, 4, 1, 5] → Comparisons: 10, Swaps: 3\n",
      "Permutation: [2, 3, 4, 5, 1] → Comparisons: 10, Swaps: 4\n",
      "Permutation: [2, 3, 5, 1, 4] → Comparisons: 10, Swaps: 4\n",
      "Permutation: [2, 3, 5, 4, 1] → Comparisons: 10, Swaps: 5\n",
      "Permutation: [2, 4, 1, 3, 5] → Comparisons: 9, Swaps: 3\n",
      "Permutation: [2, 4, 1, 5, 3] → Comparisons: 9, Swaps: 4\n",
      "Permutation: [2, 4, 3, 1, 5] → Comparisons: 10, Swaps: 4\n",
      "Permutation: [2, 4, 3, 5, 1] → Comparisons: 10, Swaps: 5\n",
      "Permutation: [2, 4, 5, 1, 3] → Comparisons: 10, Swaps: 5\n",
      "Permutation: [2, 4, 5, 3, 1] → Comparisons: 10, Swaps: 6\n",
      "Permutation: [2, 5, 1, 3, 4] → Comparisons: 9, Swaps: 4\n",
      "Permutation: [2, 5, 1, 4, 3] → Comparisons: 9, Swaps: 5\n",
      "Permutation: [2, 5, 3, 1, 4] → Comparisons: 10, Swaps: 5\n",
      "Permutation: [2, 5, 3, 4, 1] → Comparisons: 10, Swaps: 6\n",
      "Permutation: [2, 5, 4, 1, 3] → Comparisons: 10, Swaps: 6\n",
      "Permutation: [2, 5, 4, 3, 1] → Comparisons: 10, Swaps: 7\n",
      "Permutation: [3, 1, 2, 4, 5] → Comparisons: 7, Swaps: 2\n",
      "Permutation: [3, 1, 2, 5, 4] → Comparisons: 7, Swaps: 3\n",
      "Permutation: [3, 1, 4, 2, 5] → Comparisons: 9, Swaps: 3\n",
      "Permutation: [3, 1, 4, 5, 2] → Comparisons: 10, Swaps: 4\n",
      "Permutation: [3, 1, 5, 2, 4] → Comparisons: 9, Swaps: 4\n",
      "Permutation: [3, 1, 5, 4, 2] → Comparisons: 10, Swaps: 5\n",
      "Permutation: [3, 2, 1, 4, 5] → Comparisons: 9, Swaps: 3\n",
      "Permutation: [3, 2, 1, 5, 4] → Comparisons: 9, Swaps: 4\n",
      "Permutation: [3, 2, 4, 1, 5] → Comparisons: 10, Swaps: 4\n",
      "Permutation: [3, 2, 4, 5, 1] → Comparisons: 10, Swaps: 5\n",
      "Permutation: [3, 2, 5, 1, 4] → Comparisons: 10, Swaps: 5\n",
      "Permutation: [3, 2, 5, 4, 1] → Comparisons: 10, Swaps: 6\n",
      "Permutation: [3, 4, 1, 2, 5] → Comparisons: 9, Swaps: 4\n",
      "Permutation: [3, 4, 1, 5, 2] → Comparisons: 10, Swaps: 5\n",
      "Permutation: [3, 4, 2, 1, 5] → Comparisons: 10, Swaps: 5\n",
      "Permutation: [3, 4, 2, 5, 1] → Comparisons: 10, Swaps: 6\n",
      "Permutation: [3, 4, 5, 1, 2] → Comparisons: 10, Swaps: 6\n",
      "Permutation: [3, 4, 5, 2, 1] → Comparisons: 10, Swaps: 7\n",
      "Permutation: [3, 5, 1, 2, 4] → Comparisons: 9, Swaps: 5\n",
      "Permutation: [3, 5, 1, 4, 2] → Comparisons: 10, Swaps: 6\n",
      "Permutation: [3, 5, 2, 1, 4] → Comparisons: 10, Swaps: 6\n",
      "Permutation: [3, 5, 2, 4, 1] → Comparisons: 10, Swaps: 7\n",
      "Permutation: [3, 5, 4, 1, 2] → Comparisons: 10, Swaps: 7\n",
      "Permutation: [3, 5, 4, 2, 1] → Comparisons: 10, Swaps: 8\n",
      "Permutation: [4, 1, 2, 3, 5] → Comparisons: 7, Swaps: 3\n",
      "Permutation: [4, 1, 2, 5, 3] → Comparisons: 9, Swaps: 4\n",
      "Permutation: [4, 1, 3, 2, 5] → Comparisons: 9, Swaps: 4\n",
      "Permutation: [4, 1, 3, 5, 2] → Comparisons: 10, Swaps: 5\n",
      "Permutation: [4, 1, 5, 2, 3] → Comparisons: 9, Swaps: 5\n",
      "Permutation: [4, 1, 5, 3, 2] → Comparisons: 10, Swaps: 6\n",
      "Permutation: [4, 2, 1, 3, 5] → Comparisons: 9, Swaps: 4\n",
      "Permutation: [4, 2, 1, 5, 3] → Comparisons: 9, Swaps: 5\n",
      "Permutation: [4, 2, 3, 1, 5] → Comparisons: 10, Swaps: 5\n",
      "Permutation: [4, 2, 3, 5, 1] → Comparisons: 10, Swaps: 6\n",
      "Permutation: [4, 2, 5, 1, 3] → Comparisons: 10, Swaps: 6\n",
      "Permutation: [4, 2, 5, 3, 1] → Comparisons: 10, Swaps: 7\n",
      "Permutation: [4, 3, 1, 2, 5] → Comparisons: 9, Swaps: 5\n",
      "Permutation: [4, 3, 1, 5, 2] → Comparisons: 10, Swaps: 6\n",
      "Permutation: [4, 3, 2, 1, 5] → Comparisons: 10, Swaps: 6\n",
      "Permutation: [4, 3, 2, 5, 1] → Comparisons: 10, Swaps: 7\n",
      "Permutation: [4, 3, 5, 1, 2] → Comparisons: 10, Swaps: 7\n",
      "Permutation: [4, 3, 5, 2, 1] → Comparisons: 10, Swaps: 8\n",
      "Permutation: [4, 5, 1, 2, 3] → Comparisons: 9, Swaps: 6\n",
      "Permutation: [4, 5, 1, 3, 2] → Comparisons: 10, Swaps: 7\n",
      "Permutation: [4, 5, 2, 1, 3] → Comparisons: 10, Swaps: 7\n",
      "Permutation: [4, 5, 2, 3, 1] → Comparisons: 10, Swaps: 8\n",
      "Permutation: [4, 5, 3, 1, 2] → Comparisons: 10, Swaps: 8\n",
      "Permutation: [4, 5, 3, 2, 1] → Comparisons: 10, Swaps: 9\n",
      "Permutation: [5, 1, 2, 3, 4] → Comparisons: 7, Swaps: 4\n",
      "Permutation: [5, 1, 2, 4, 3] → Comparisons: 9, Swaps: 5\n",
      "Permutation: [5, 1, 3, 2, 4] → Comparisons: 9, Swaps: 5\n",
      "Permutation: [5, 1, 3, 4, 2] → Comparisons: 10, Swaps: 6\n",
      "Permutation: [5, 1, 4, 2, 3] → Comparisons: 9, Swaps: 6\n",
      "Permutation: [5, 1, 4, 3, 2] → Comparisons: 10, Swaps: 7\n",
      "Permutation: [5, 2, 1, 3, 4] → Comparisons: 9, Swaps: 5\n",
      "Permutation: [5, 2, 1, 4, 3] → Comparisons: 9, Swaps: 6\n",
      "Permutation: [5, 2, 3, 1, 4] → Comparisons: 10, Swaps: 6\n",
      "Permutation: [5, 2, 3, 4, 1] → Comparisons: 10, Swaps: 7\n",
      "Permutation: [5, 2, 4, 1, 3] → Comparisons: 10, Swaps: 7\n",
      "Permutation: [5, 2, 4, 3, 1] → Comparisons: 10, Swaps: 8\n",
      "Permutation: [5, 3, 1, 2, 4] → Comparisons: 9, Swaps: 6\n",
      "Permutation: [5, 3, 1, 4, 2] → Comparisons: 10, Swaps: 7\n",
      "Permutation: [5, 3, 2, 1, 4] → Comparisons: 10, Swaps: 7\n",
      "Permutation: [5, 3, 2, 4, 1] → Comparisons: 10, Swaps: 8\n",
      "Permutation: [5, 3, 4, 1, 2] → Comparisons: 10, Swaps: 8\n",
      "Permutation: [5, 3, 4, 2, 1] → Comparisons: 10, Swaps: 9\n",
      "Permutation: [5, 4, 1, 2, 3] → Comparisons: 9, Swaps: 7\n",
      "Permutation: [5, 4, 1, 3, 2] → Comparisons: 10, Swaps: 8\n",
      "Permutation: [5, 4, 2, 1, 3] → Comparisons: 10, Swaps: 8\n",
      "Permutation: [5, 4, 2, 3, 1] → Comparisons: 10, Swaps: 9\n",
      "Permutation: [5, 4, 3, 1, 2] → Comparisons: 10, Swaps: 9\n",
      "Permutation: [5, 4, 3, 2, 1] → Comparisons: 10, Swaps: 10\n"
     ]
    }
   ],
   "source": [
    "import itertools\n",
    "\n",
    "def bubble_sort_with_stats(arr):\n",
    "    \"\"\"Perform bubble sort and return show metrics.\"\"\"\n",
    "    arr_copy = arr.copy()\n",
    "    n = len(arr_copy)\n",
    "    comparisons = 0\n",
    "    swaps = 0\n",
    "    \n",
    "    for i in range(n):\n",
    "        is_sorted = True\n",
    "        for j in range(n-i-1):\n",
    "            comparisons += 1\n",
    "            if arr_copy[j] > arr_copy[j+1]:\n",
    "                arr_copy[j], arr_copy[j+1] = arr_copy[j+1], arr_copy[j]\n",
    "                swaps += 1\n",
    "                is_sorted = False\n",
    "        if is_sorted:\n",
    "            break\n",
    "            \n",
    "    return comparisons, swaps\n",
    "\n",
    "# Create all permutations of [1,2,3,4,5]\n",
    "default = [1,2,3,4,5]\n",
    "permutations = list(itertools.permutations(default))\n",
    "\n",
    "# Test each permutation\n",
    "for perm in permutations:\n",
    "    perm_list = list(perm)\n",
    "    comparisons, swaps = bubble_sort_with_stats(perm_list)\n",
    "    print(f\"Permutation: {perm_list} → Comparisons: {comparisons}, Swaps: {swaps}\")"
   ]
  },
  {
   "cell_type": "markdown",
   "metadata": {},
   "source": [
    "### Early Termination Optimization\n",
    "I implemented the \"early termination\" optimisation in bubble sort using the `is_sorted` flag, which allows the algorithm to stop once a pass makes no swaps. This significantly improves performance for nearly-sorted arrays, changing the best-case time complexity from O(n²) to O(n)."
   ]
  },
  {
   "cell_type": "markdown",
   "metadata": {},
   "source": [
    "# References\n",
    "1. National Institute of Standards and Technology (2015). FIPS PUB 180-4: Secure Hash Standard (SHS). Section 2.2.2: Elementary Functions.https://nvlpubs.nist.gov/nistpubs/FIPS/NIST.FIPS.180-4.pdf  \n",
    "2. The C programming Lanaguage by DENNIS M.RITCHIE and BRIAN W. KERNIGHAN\n",
    "https://seriouscomputerist.atariverse.com/media/pdf/book/C%20Programming%20Language%20-%202nd%20Edition%20(OCR).pdf  \n",
    "3. Turing, A. M. (1936). \"On Computable Numbers, with an Application to the Entscheidungsproblem.\" Proceedings of the London Mathematical Society, Series 2, Volume 42, Issue 1, pp. 230-265.https://www.cs.virginia.edu/~robins/Turing_Paper_1936.pdf\n",
    "4. Bubble sort explainationw3schools. https://www.w3schools.com/dsa/dsa_algo_bubblesort.php#:~:text=The%20Bubble%20Sort%20algorithm%20loops,again%20and%20again%20n%20times.\n",
    "5. Sieve of Eratones code : https://www.geeksforgeeks.org/python-program-for-sieve-of-eratosthenes/\n",
    "6. Trail Divison :https://www.geeksforgeeks.org/trial-division-algorithm-for-prime-factorization/\n",
    "7. Root cubes help :https://github.com/ianmcloughlin/computational_theory/blob/main/materials/cube_roots.ipynb"
   ]
  },
  {
   "cell_type": "markdown",
   "metadata": {},
   "source": []
  }
 ],
 "metadata": {
  "kernelspec": {
   "display_name": "Python 3",
   "language": "python",
   "name": "python3"
  },
  "language_info": {
   "codemirror_mode": {
    "name": "ipython",
    "version": 3
   },
   "file_extension": ".py",
   "mimetype": "text/x-python",
   "name": "python",
   "nbconvert_exporter": "python",
   "pygments_lexer": "ipython3",
   "version": "3.12.1"
  },
  "orig_nbformat": 4
 },
 "nbformat": 4,
 "nbformat_minor": 2
}
