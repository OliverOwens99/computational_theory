{
 "cells": [
  {
   "attachments": {},
   "cell_type": "markdown",
   "metadata": {},
   "source": [
    "# Tasks\n",
    "## Task 1 : Binary Representations\n",
    "\n",
    "I will do this using several functions rotate left, rotate right  a choose function and an majority function. Let's start with the roate left function I want to rotate the bits in a 32 bit unsigned integer too n places n being anything so lets do this one first. \n"
   ]
  },
  {
   "cell_type": "code",
   "execution_count": 2,
   "metadata": {},
   "outputs": [],
   "source": [
    "d = 0xe3\n"
   ]
  },
  {
   "cell_type": "code",
   "execution_count": 3,
   "metadata": {},
   "outputs": [
    {
     "name": "stdout",
     "output_type": "stream",
     "text": [
      "227\n"
     ]
    }
   ],
   "source": [
    "print(d)"
   ]
  },
  {
   "cell_type": "code",
   "execution_count": 4,
   "metadata": {},
   "outputs": [
    {
     "data": {
      "text/plain": [
       "'0b11100011'"
      ]
     },
     "execution_count": 4,
     "metadata": {},
     "output_type": "execute_result"
    }
   ],
   "source": [
    "bin(d)"
   ]
  },
  {
   "cell_type": "code",
   "execution_count": 5,
   "metadata": {},
   "outputs": [
    {
     "data": {
      "text/plain": [
       "'0b11100011000'"
      ]
     },
     "execution_count": 5,
     "metadata": {},
     "output_type": "execute_result"
    }
   ],
   "source": [
    "bin(d <<3)"
   ]
  },
  {
   "cell_type": "code",
   "execution_count": 6,
   "metadata": {},
   "outputs": [
    {
     "data": {
      "text/plain": [
       "'0b111'"
      ]
     },
     "execution_count": 6,
     "metadata": {},
     "output_type": "execute_result"
    }
   ],
   "source": [
    "bin(d >> 5)"
   ]
  },
  {
   "cell_type": "code",
   "execution_count": 7,
   "metadata": {},
   "outputs": [
    {
     "data": {
      "text/plain": [
       "'0b11100011111'"
      ]
     },
     "execution_count": 7,
     "metadata": {},
     "output_type": "execute_result"
    }
   ],
   "source": [
    "bin((d << 3) | (d >> 5))"
   ]
  },
  {
   "cell_type": "code",
   "execution_count": 8,
   "metadata": {},
   "outputs": [
    {
     "data": {
      "text/plain": [
       "88"
      ]
     },
     "execution_count": 8,
     "metadata": {},
     "output_type": "execute_result"
    }
   ],
   "source": [
    "0xb << 3"
   ]
  },
  {
   "cell_type": "markdown",
   "metadata": {},
   "source": [
    "## Task 1a\n",
    "The number is shifted left by x positions using n << x\n",
    "The bits that \"fall off\" the left are caught and moved to the right using n >> (int_bits - x)\n",
    "The two results are combined using the bitwise OR operator |"
   ]
  },
  {
   "cell_type": "code",
   "execution_count": 9,
   "metadata": {},
   "outputs": [],
   "source": [
    "import numpy\n",
    "\n",
    "int_bits = 32\n",
    "\n",
    "x=2\n",
    "n=42\n",
    "\n",
    "def rotl(n ,x):\n",
    "\n",
    "    return (n << x)|(n >> (int_bits - x))\n",
    "\n",
    "\n"
   ]
  },
  {
   "cell_type": "code",
   "execution_count": 10,
   "metadata": {},
   "outputs": [
    {
     "name": "stdout",
     "output_type": "stream",
     "text": [
      "Left Rotation of 42 by 2 is 168\n"
     ]
    }
   ],
   "source": [
    "print(\"Left Rotation of\",n,\"by\"\n",
    "      ,x,\"is\",end=\" \")\n",
    "print(rotl(n, x))"
   ]
  },
  {
   "cell_type": "markdown",
   "metadata": {},
   "source": [
    "here is some more exmaples to test wether the code is doing what I think it is doing "
   ]
  },
  {
   "cell_type": "code",
   "execution_count": 18,
   "metadata": {},
   "outputs": [
    {
     "name": "stdout",
     "output_type": "stream",
     "text": [
      "Left Rotation of 42 by 16 is 2752512\n"
     ]
    }
   ],
   "source": [
    "#Test example 2\n",
    "x=16\n",
    "n=42\n",
    "print(\"Left Rotation of\",n,\"by\"\n",
    "        ,x,\"is\",end=\" \")\n",
    "print(rotl(n, x))"
   ]
  },
  {
   "cell_type": "code",
   "execution_count": 20,
   "metadata": {},
   "outputs": [
    {
     "name": "stdout",
     "output_type": "stream",
     "text": [
      "Left Rotation of 64 by 24 is 1073741824\n"
     ]
    }
   ],
   "source": [
    "#Test example 3\n",
    "x=24\n",
    "n=64\n",
    "print(\"Left Rotation of\",n,\"by\"\n",
    "        ,x,\"is\",end=\" \")\n",
    "print(rotl(n, x))\n"
   ]
  },
  {
   "cell_type": "markdown",
   "metadata": {},
   "source": [
    "## Task 1b\n",
    "The number is shifted right by x positions using n >> x\n",
    "The bits that \"fall off\" the right are caught and moved to the left using n << (int_bits - x)\n",
    "The two results are combined using the bitwise OR operator |"
   ]
  },
  {
   "cell_type": "code",
   "execution_count": 13,
   "metadata": {},
   "outputs": [],
   "source": [
    "def rotr(n ,x):\n",
    "\n",
    "    return (n >> x)|(n << (int_bits - x)) & 0xFFFFFFFF"
   ]
  },
  {
   "cell_type": "code",
   "execution_count": 14,
   "metadata": {},
   "outputs": [
    {
     "name": "stdout",
     "output_type": "stream",
     "text": [
      "Right Rotation of 64 by 24 is 16384\n"
     ]
    }
   ],
   "source": [
    "print(\"Right Rotation of\",n,\"by\"\n",
    "      ,x,\"is\",end=\" \")\n",
    "print(rotr(n, x))"
   ]
  },
  {
   "cell_type": "code",
   "execution_count": null,
   "metadata": {},
   "outputs": [],
   "source": []
  },
  {
   "cell_type": "markdown",
   "metadata": {},
   "source": [
    "### Task 1c \n",
    "Here we will make a function ch(x, y, z) that chooses the bits from y where x has bits set to 1 and bits in z where x has bits set to 0.\n",
    "\n"
   ]
  },
  {
   "cell_type": "code",
   "execution_count": 15,
   "metadata": {},
   "outputs": [
    {
     "name": "stdout",
     "output_type": "stream",
     "text": [
      "2\n"
     ]
    }
   ],
   "source": [
    "def ch(x, y, z):\n",
    "\n",
    "    return (x & y) ^ (~x & z)\n",
    "\n",
    "print(ch(0x1, 0x2, 0x3))"
   ]
  },
  {
   "cell_type": "markdown",
   "metadata": {},
   "source": [
    "The function ch takes three arguments x, y, and z.\n",
    "It performs a bitwise AND operation between x and y.\n",
    "It performs a bitwise AND operation between the bitwise NOT of x and z.\n",
    "It then performs a bitwise XOR operation between the results of the two AND operations.\n",
    "The result of the XOR operation is returned"
   ]
  },
  {
   "cell_type": "markdown",
   "metadata": {},
   "source": [
    "### Task1d the maj function \n",
    "\n",
    "The function maj(x, y, z) which takes a majority vote of the bits in x, y, and z. The output should have a 1 in bit position i where at least two of x, y, and z have 1's in position i. All other output bit positions should be 0. So this is a simple voting system where the computer decideds on which bit is on or off so to speak for the different bit positions. For each bit position in the paramters it decides if they are yes or no if 2 out of the three are yess the answer is yes if not the answer is no. This implementation follows the Secure Hash Standard (NIST FIPS 180-4) specifications for circular bit rotation operations used in cryptographic hash functions."
   ]
  },
  {
   "cell_type": "markdown",
   "metadata": {},
   "source": [
    "I tried to use OR (|) instead of XOR(^) intially but it ultimatly doesnt really matter because of the properties of xor when used in pairs.\n"
   ]
  },
  {
   "cell_type": "code",
   "execution_count": 16,
   "metadata": {},
   "outputs": [
    {
     "name": "stdout",
     "output_type": "stream",
     "text": [
      "242\n",
      "0b11110010\n"
     ]
    }
   ],
   "source": [
    "def maj(x, y, z):\n",
    "    return (x & y) ^ (y & z) ^ (z & x)\n",
    "\n",
    "\n",
    "result = maj(0xe3, 0xf4, 0x5a)\n",
    "print(result)\n",
    "print(bin(result))"
   ]
  },
  {
   "cell_type": "markdown",
   "metadata": {},
   "source": [
    "# Task 2 : Hash Functions\n"
   ]
  },
  {
   "cell_type": "markdown",
   "metadata": {},
   "source": [
    "\"The hashing function, which is used by both lookup and install, adds each character value\n",
    "in the string to a scrambled combination of the previous ones and returns the remainder\n",
    "modulo the array size. This is not the best possible hash function, but it is short and effective.\n",
    " /* hash: form hash value for string s */\n",
    " unsigned hash(char *s)\n",
    " {\n",
    " unsigned hashval;\n",
    " for (hashval = 0; *s != '\\0'; s++)\n",
    " hashval = *s + 31 * hashval;\n",
    " 129\n",
    " return hashval % HASHSIZE;\n",
    " }\n",
    "Unsigned arithmetic ensures that the hash value is non-negative.\" form the The C programming language by BRIAN W. KERNIGHAN and DENNIS M.RITCHIE\n",
    "\n",
    "Below is my python implementaion the reason why 31 and 101 were used as they seem as 31 is close to 32 so it is perfect for the masking of asci characters this is also why we use ord to ensure it is ascii characters we are using the ne mod 101 the reason for 101  it is a prime number  is effective like they mention not the best possible hash function but works well.\n",
    "\n",
    "ord() converts to ASCII (0-127)\n",
    "Multiplication by 31 provides:\n",
    "Good bit distribution\n",
    "CPU-efficient operations\n",
    "Effective string character mixing\n",
    "Modulo 101 ensures:\n",
    "Bounded output range\n",
    "Even distribution\n",
    "Minimal collisions"
   ]
  },
  {
   "cell_type": "code",
   "execution_count": null,
   "metadata": {},
   "outputs": [
    {
     "name": "stdout",
     "output_type": "stream",
     "text": [
      "38\n"
     ]
    }
   ],
   "source": [
    "def hash(chars):\n",
    "    hashval = 0\n",
    "    for char in chars:\n",
    "        hashval = ord(char) + 31 * hashval\n",
    "    return hashval % 101\n",
    "\n",
    "# Example with my name\n",
    "result = hash(['O', 'L', 'I', 'V', 'E', 'R'])\n",
    "print(result)"
   ]
  },
  {
   "cell_type": "markdown",
   "metadata": {},
   "source": [
    " "
   ]
  },
  {
   "cell_type": "markdown",
   "metadata": {},
   "source": [
    "# References\n",
    "1.National Institute of Standards and Technology (2015). FIPS PUB 180-4: Secure Hash Standard (SHS). Section 2.2.2: Elementary Functions.https://nvlpubs.nist.gov/nistpubs/FIPS/NIST.FIPS.180-4.pdf  \n",
    "2.The C programming Lanaguage by DENNIS M.RITCHIE and BRIAN W. KERNIGHAN\n",
    "https://seriouscomputerist.atariverse.com/media/pdf/book/C%20Programming%20Language%20-%202nd%20Edition%20(OCR).pdf  "
   ]
  },
  {
   "cell_type": "markdown",
   "metadata": {},
   "source": []
  }
 ],
 "metadata": {
  "kernelspec": {
   "display_name": "Python 3",
   "language": "python",
   "name": "python3"
  },
  "language_info": {
   "codemirror_mode": {
    "name": "ipython",
    "version": 3
   },
   "file_extension": ".py",
   "mimetype": "text/x-python",
   "name": "python",
   "nbconvert_exporter": "python",
   "pygments_lexer": "ipython3",
   "version": "3.12.1"
  },
  "orig_nbformat": 4
 },
 "nbformat": 4,
 "nbformat_minor": 2
}
